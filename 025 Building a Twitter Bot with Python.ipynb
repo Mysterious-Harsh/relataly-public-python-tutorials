{
 "cells": [
  {
   "cell_type": "markdown",
   "metadata": {},
   "source": [
    "# 1 Authenticate at the Twitter API"
   ]
  },
  {
   "cell_type": "code",
   "execution_count": 1,
   "metadata": {},
   "outputs": [],
   "source": [
    "import json\n",
    "import requests\n",
    "import pandas as pd\n",
    "import tweepy \n",
    "\n",
    "# place the twitter_secrets file under <User>/anaconda3/Lib\n",
    "from twitter_secrets import twitter_secrets as ts\n",
    "\n",
    "consumer_key = ts.CONSUMER_KEY\n",
    "consumer_secret = ts.CONSUMER_SECRET\n",
    "access_token = ts.ACCESS_TOKEN\n",
    "access_secret = ts.ACCESS_SECRET\n",
    "\n",
    "### Print API Auth Data (leave disabled for security reasons)\n",
    "# print(f'consumer_key: {consumer_key}')\n",
    "# print(f'consumer_secret: {consumer_secret}')\n",
    "# print(f'access_token: {access_token}')\n",
    "# print(f'access_secret: {access_token}')\n",
    "\n",
    "#authenticating to access the twitter API\n",
    "auth=tweepy.OAuthHandler(consumer_key,consumer_secret)\n",
    "auth.set_access_token(access_token,access_secret)\n",
    "api=tweepy.API(auth)"
   ]
  },
  {
   "cell_type": "markdown",
   "metadata": {},
   "source": [
    "# 2 Define Tweet Functions"
   ]
  },
  {
   "cell_type": "code",
   "execution_count": null,
   "metadata": {},
   "outputs": [],
   "source": [
    "def send_volume_tweet(v):\n",
    "    tweet='this is an automated test tweet using #Python $BTC $ETH'\n",
    "    api.update_status(tweet)\n",
    "\n",
    "def send_pricechange_tweet(v):\n",
    "    tweet='this is an automated test tweet using #Python $BTC $ETH'\n",
    "    api.update_status(tweet)"
   ]
  },
  {
   "cell_type": "markdown",
   "metadata": {},
   "source": [
    "# 3 Authenticate at the Binance API"
   ]
  },
  {
   "cell_type": "code",
   "execution_count": null,
   "metadata": {},
   "outputs": [],
   "source": []
  },
  {
   "cell_type": "markdown",
   "metadata": {},
   "source": [
    "# 4 Define Rules for Trading Signals"
   ]
  },
  {
   "cell_type": "code",
   "execution_count": null,
   "metadata": {},
   "outputs": [],
   "source": []
  },
  {
   "cell_type": "markdown",
   "metadata": {},
   "source": [
    "# 5 Start Streaming Data"
   ]
  },
  {
   "cell_type": "code",
   "execution_count": null,
   "metadata": {},
   "outputs": [],
   "source": []
  }
 ],
 "metadata": {
  "kernelspec": {
   "display_name": "Python 3",
   "language": "python",
   "name": "python3"
  },
  "language_info": {
   "codemirror_mode": {
    "name": "ipython",
    "version": 3
   },
   "file_extension": ".py",
   "mimetype": "text/x-python",
   "name": "python",
   "nbconvert_exporter": "python",
   "pygments_lexer": "ipython3",
   "version": "3.8.5"
  }
 },
 "nbformat": 4,
 "nbformat_minor": 4
}
