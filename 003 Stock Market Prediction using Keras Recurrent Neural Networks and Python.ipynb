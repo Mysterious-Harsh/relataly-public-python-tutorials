{
 "cells": [
  {
   "cell_type": "markdown",
   "metadata": {},
   "source": [
    "# Step #1 Load the Data"
   ]
  },
  {
   "cell_type": "code",
   "execution_count": 1,
   "metadata": {},
   "outputs": [
    {
     "name": "stdout",
     "output_type": "stream",
     "text": [
      "(2889, 6)\n"
     ]
    },
    {
     "data": {
      "text/html": [
       "<div>\n",
       "<style scoped>\n",
       "    .dataframe tbody tr th:only-of-type {\n",
       "        vertical-align: middle;\n",
       "    }\n",
       "\n",
       "    .dataframe tbody tr th {\n",
       "        vertical-align: top;\n",
       "    }\n",
       "\n",
       "    .dataframe thead th {\n",
       "        text-align: right;\n",
       "    }\n",
       "</style>\n",
       "<table border=\"1\" class=\"dataframe\">\n",
       "  <thead>\n",
       "    <tr style=\"text-align: right;\">\n",
       "      <th></th>\n",
       "      <th>High</th>\n",
       "      <th>Low</th>\n",
       "      <th>Open</th>\n",
       "      <th>Close</th>\n",
       "      <th>Volume</th>\n",
       "      <th>Adj Close</th>\n",
       "    </tr>\n",
       "    <tr>\n",
       "      <th>Date</th>\n",
       "      <th></th>\n",
       "      <th></th>\n",
       "      <th></th>\n",
       "      <th></th>\n",
       "      <th></th>\n",
       "      <th></th>\n",
       "    </tr>\n",
       "  </thead>\n",
       "  <tbody>\n",
       "    <tr>\n",
       "      <th>2010-01-04</th>\n",
       "      <td>1133.869995</td>\n",
       "      <td>1116.560059</td>\n",
       "      <td>1116.560059</td>\n",
       "      <td>1132.989990</td>\n",
       "      <td>3991400000</td>\n",
       "      <td>1132.989990</td>\n",
       "    </tr>\n",
       "    <tr>\n",
       "      <th>2010-01-05</th>\n",
       "      <td>1136.630005</td>\n",
       "      <td>1129.660034</td>\n",
       "      <td>1132.660034</td>\n",
       "      <td>1136.520020</td>\n",
       "      <td>2491020000</td>\n",
       "      <td>1136.520020</td>\n",
       "    </tr>\n",
       "    <tr>\n",
       "      <th>2010-01-06</th>\n",
       "      <td>1139.189941</td>\n",
       "      <td>1133.949951</td>\n",
       "      <td>1135.709961</td>\n",
       "      <td>1137.140015</td>\n",
       "      <td>4972660000</td>\n",
       "      <td>1137.140015</td>\n",
       "    </tr>\n",
       "    <tr>\n",
       "      <th>2010-01-07</th>\n",
       "      <td>1142.459961</td>\n",
       "      <td>1131.319946</td>\n",
       "      <td>1136.270020</td>\n",
       "      <td>1141.689941</td>\n",
       "      <td>5270680000</td>\n",
       "      <td>1141.689941</td>\n",
       "    </tr>\n",
       "    <tr>\n",
       "      <th>2010-01-08</th>\n",
       "      <td>1145.390015</td>\n",
       "      <td>1136.219971</td>\n",
       "      <td>1140.520020</td>\n",
       "      <td>1144.979980</td>\n",
       "      <td>4389590000</td>\n",
       "      <td>1144.979980</td>\n",
       "    </tr>\n",
       "  </tbody>\n",
       "</table>\n",
       "</div>"
      ],
      "text/plain": [
       "                   High          Low         Open        Close      Volume  \\\n",
       "Date                                                                         \n",
       "2010-01-04  1133.869995  1116.560059  1116.560059  1132.989990  3991400000   \n",
       "2010-01-05  1136.630005  1129.660034  1132.660034  1136.520020  2491020000   \n",
       "2010-01-06  1139.189941  1133.949951  1135.709961  1137.140015  4972660000   \n",
       "2010-01-07  1142.459961  1131.319946  1136.270020  1141.689941  5270680000   \n",
       "2010-01-08  1145.390015  1136.219971  1140.520020  1144.979980  4389590000   \n",
       "\n",
       "              Adj Close  \n",
       "Date                     \n",
       "2010-01-04  1132.989990  \n",
       "2010-01-05  1136.520020  \n",
       "2010-01-06  1137.140015  \n",
       "2010-01-07  1141.689941  \n",
       "2010-01-08  1144.979980  "
      ]
     },
     "execution_count": 1,
     "metadata": {},
     "output_type": "execute_result"
    }
   ],
   "source": [
    "# Remote data access for pandas\n",
    "import pandas_datareader as webreader\n",
    "# Mathematical functions \n",
    "import math \n",
    "# Fundamental package for scientific computing with Python\n",
    "import numpy as np \n",
    "# Additional functions for analysing and manipulating data\n",
    "import pandas as pd \n",
    "# Date Functions\n",
    "from datetime import date, timedelta\n",
    "# This function adds plotting functions for calender dates\n",
    "from pandas.plotting import register_matplotlib_converters\n",
    "# Important package for visualization - we use this to plot the market data\n",
    "import matplotlib.pyplot as plt \n",
    "# Formatting dates\n",
    "import matplotlib.dates as mdates\n",
    "# Packages for measuring model performance / errors\n",
    "from sklearn.metrics import mean_absolute_error, mean_squared_error\n",
    "# Tools for predictive data analysis. We will use the MinMaxScaler to normalize the price data \n",
    "from sklearn.preprocessing import MinMaxScaler \n",
    "# Deep learning library, used for neural networks\n",
    "from keras.models import Sequential \n",
    "# Deep learning classes for recurrent and regular densely-connected layers\n",
    "from keras.layers import LSTM, Dense\n",
    "\n",
    "# Setting the timeframe for the data extraction\n",
    "today = date.today()\n",
    "date_today = today.strftime(\"%Y-%m-%d\")\n",
    "date_start = '2010-01-01'\n",
    "\n",
    "# Getting S&P500 quotes\n",
    "stockname = 'S&P500'\n",
    "symbol = '^GSPC'\n",
    "df = webreader.DataReader(\n",
    "    symbol, start=date_start, end=date_today, data_source=\"yahoo\"\n",
    ")\n",
    "\n",
    "# Taking a look at the shape of the dataset\n",
    "print(df.shape)\n",
    "df.head(5)"
   ]
  },
  {
   "cell_type": "markdown",
   "metadata": {},
   "source": [
    "# Step #2 Explore the Data"
   ]
  },
  {
   "cell_type": "code",
   "execution_count": 2,
   "metadata": {},
   "outputs": [
    {
     "data": {
      "image/png": "[encoded data removed]",
      "text/plain": [
       "<Figure size 1152x432 with 1 Axes>"
      ]
     },
     "metadata": {
      "needs_background": "light"
     },
     "output_type": "display_data"
    }
   ],
   "source": [
    "# Plotting the data\n",
    "register_matplotlib_converters()\n",
    "years = mdates.YearLocator() \n",
    "fig, ax1 = plt.subplots(figsize=(16, 6))\n",
    "ax1.xaxis.set_major_locator(years)\n",
    "x = df.index\n",
    "y = df['Close']\n",
    "ax1.fill_between(x, 0, y, color='#b9e1fa')\n",
    "ax1.legend([stockname], fontsize=12)\n",
    "plt.title(stockname + ' from '+ date_start + ' to ' + date_today, fontsize=16)\n",
    "plt.plot(y, color='#039dfc', label=stockname, linewidth=1.0)\n",
    "plt.ylabel('S&P500 Points', fontsize=12)\n",
    "plt.show()"
   ]
  },
  {
   "cell_type": "markdown",
   "metadata": {},
   "source": [
    "# Step #3 Preprocess the Data"
   ]
  },
  {
   "cell_type": "code",
   "execution_count": 3,
   "metadata": {
    "scrolled": true
   },
   "outputs": [],
   "source": [
    "# Feature Selection - Only Close Data\n",
    "data = df.filter(['Close'])\n",
    "data_unscaled = data.values\n",
    "\n",
    "# Get the number of rows to train the model on 80% of the data \n",
    "training_data_length = math.ceil(len(data_unscaled) * 0.8)\n",
    "\n",
    "# Transform features by scaling each feature to a range between 0 and 1\n",
    "mmscaler = MinMaxScaler(feature_range=(0, 1))\n",
    "np_data = mmscaler.fit_transform(data_unscaled)"
   ]
  },
  {
   "cell_type": "code",
   "execution_count": 4,
   "metadata": {},
   "outputs": [
    {
     "name": "stdout",
     "output_type": "stream",
     "text": [
      "(2262, 50, 1) (2262,)\n",
      "(577, 50, 1) (577,)\n",
      "0.5512914307109974\n",
      "0.5512914307109974\n"
     ]
    }
   ],
   "source": [
    "# Set the sequence length - this is the timeframe used to make a single prediction\n",
    "sequence_length = 50\n",
    "\n",
    "# Prediction Index\n",
    "index_Close = 0\n",
    "\n",
    "# Split the training data into train and train data sets\n",
    "# As a first step, we get the number of rows to train the model on 80% of the data \n",
    "train_data_len = math.ceil(np_data.shape[0] * 0.8)\n",
    "\n",
    "# Create the training and test data\n",
    "train_data = np_data[0:train_data_len, :]\n",
    "test_data = np_data[train_data_len - sequence_length:, :]\n",
    "\n",
    "# The RNN needs data with the format of [samples, time steps, features]\n",
    "# Here, we create N samples, sequence_length time steps per sample, and 6 features\n",
    "def partition_dataset(sequence_length, data):\n",
    "    x, y = [], []\n",
    "    data_len = data.shape[0]\n",
    "    for i in range(sequence_length, data_len):\n",
    "        x.append(data[i-sequence_length:i,:]) #contains sequence_length values 0-sequence_length * columsn\n",
    "        y.append(data[i, index_Close]) #contains the prediction values for validation (3rd column = Close),  for single-step prediction\n",
    "    \n",
    "    # Convert the x and y to numpy arrays\n",
    "    x = np.array(x)\n",
    "    y = np.array(y)\n",
    "    return x, y\n",
    "\n",
    "# Generate training data and test data\n",
    "x_train, y_train = partition_dataset(sequence_length, train_data)\n",
    "x_test, y_test = partition_dataset(sequence_length, test_data)\n",
    "\n",
    "# Print the shapes: the result is: (rows, training_sequence, features) (prediction value, )\n",
    "print(x_train.shape, y_train.shape)\n",
    "print(x_test.shape, y_test.shape)\n",
    "\n",
    "# Validate that the prediction value and the input match up\n",
    "# The last close price of the second input sample should equal the first prediction value\n",
    "print(x_test[1][sequence_length-1][index_Close])\n",
    "print(y_test[0])"
   ]
  },
  {
   "cell_type": "markdown",
   "metadata": {},
   "source": [
    "# Step #4 Model Training"
   ]
  },
  {
   "cell_type": "code",
   "execution_count": 5,
   "metadata": {},
   "outputs": [],
   "source": [
    "# Configure the neural network model\n",
    "model = Sequential()\n",
    "\n",
    "# Model with 100 Neurons \n",
    "# inputshape = 100 Timestamps\n",
    "model.add(LSTM(100, return_sequences=True, input_shape=(x_train.shape[1], 1))) \n",
    "model.add(LSTM(100, return_sequences=False))\n",
    "model.add(Dense(25, activation='relu'))\n",
    "model.add(Dense(1))\n",
    "\n",
    "# Compile the model\n",
    "model.compile(optimizer='adam', loss='mean_squared_error')"
   ]
  },
  {
   "cell_type": "code",
   "execution_count": 6,
   "metadata": {},
   "outputs": [
    {
     "name": "stdout",
     "output_type": "stream",
     "text": [
      "Epoch 1/25\n",
      "142/142 [==============================] - 4s 27ms/step - loss: 0.0028\n",
      "Epoch 2/25\n",
      "142/142 [==============================] - 4s 26ms/step - loss: 1.4951e-04\n",
      "Epoch 3/25\n",
      "142/142 [==============================] - 4s 25ms/step - loss: 1.6638e-04\n",
      "Epoch 4/25\n",
      "142/142 [==============================] - 4s 26ms/step - loss: 1.6726e-04\n",
      "Epoch 5/25\n",
      "142/142 [==============================] - 4s 26ms/step - loss: 1.6806e-04\n",
      "Epoch 6/25\n",
      "142/142 [==============================] - 4s 26ms/step - loss: 1.5147e-04\n",
      "Epoch 7/25\n",
      "142/142 [==============================] - 4s 26ms/step - loss: 1.5141e-04\n",
      "Epoch 8/25\n",
      "142/142 [==============================] - 4s 26ms/step - loss: 1.1836e-04\n",
      "Epoch 9/25\n",
      "142/142 [==============================] - 4s 26ms/step - loss: 1.3508e-04\n",
      "Epoch 10/25\n",
      "142/142 [==============================] - 4s 25ms/step - loss: 1.0596e-04\n",
      "Epoch 11/25\n",
      "142/142 [==============================] - 3s 25ms/step - loss: 1.1017e-04\n",
      "Epoch 12/25\n",
      "142/142 [==============================] - 4s 25ms/step - loss: 1.1078e-04\n",
      "Epoch 13/25\n",
      "142/142 [==============================] - 4s 26ms/step - loss: 1.0297e-04\n",
      "Epoch 14/25\n",
      "142/142 [==============================] - 4s 25ms/step - loss: 1.0642e-04\n",
      "Epoch 15/25\n",
      "142/142 [==============================] - 3s 24ms/step - loss: 8.8923e-05\n",
      "Epoch 16/25\n",
      "142/142 [==============================] - 4s 26ms/step - loss: 9.7154e-05\n",
      "Epoch 17/25\n",
      "142/142 [==============================] - 3s 24ms/step - loss: 1.0148e-04\n",
      "Epoch 18/25\n",
      "142/142 [==============================] - 4s 26ms/step - loss: 7.3617e-05\n",
      "Epoch 19/25\n",
      "142/142 [==============================] - 3s 25ms/step - loss: 7.2761e-05\n",
      "Epoch 20/25\n",
      "142/142 [==============================] - 4s 26ms/step - loss: 7.2106e-05: 0s - loss\n",
      "Epoch 21/25\n",
      "142/142 [==============================] - 3s 24ms/step - loss: 6.6925e-05\n",
      "Epoch 22/25\n",
      "142/142 [==============================] - 3s 24ms/step - loss: 6.6387e-05\n",
      "Epoch 23/25\n",
      "142/142 [==============================] - 3s 24ms/step - loss: 7.4791e-05\n",
      "Epoch 24/25\n",
      "142/142 [==============================] - 3s 24ms/step - loss: 7.2815e-05\n",
      "Epoch 25/25\n",
      "142/142 [==============================] - 3s 23ms/step - loss: 6.2178e-05\n"
     ]
    },
    {
     "data": {
      "text/plain": [
       "<tensorflow.python.keras.callbacks.History at 0x1f995382a60>"
      ]
     },
     "execution_count": 6,
     "metadata": {},
     "output_type": "execute_result"
    }
   ],
   "source": [
    "# Training the model\n",
    "model.fit(x_train, y_train, batch_size=16, epochs=25)"
   ]
  },
  {
   "cell_type": "code",
   "execution_count": 7,
   "metadata": {},
   "outputs": [],
   "source": [
    "# Get the predicted values\n",
    "predictions = model.predict(x_test)\n",
    "predictions = mmscaler.inverse_transform(predictions)"
   ]
  },
  {
   "cell_type": "markdown",
   "metadata": {},
   "source": [
    "# Step #5 Evaluate model performance"
   ]
  },
  {
   "cell_type": "code",
   "execution_count": 8,
   "metadata": {},
   "outputs": [
    {
     "name": "stdout",
     "output_type": "stream",
     "text": [
      "MAE: 3280.1\n",
      "RMSE: 3280.1\n"
     ]
    }
   ],
   "source": [
    "# Calculate the mean absolute error (MAE)\n",
    "mae = mean_absolute_error(predictions, y_test)\n",
    "print('MAE: ' + str(round(mae, 1)))\n",
    "\n",
    "# Calculate the root mean squarred error (RMSE)\n",
    "rmse = np.sqrt(np.mean(predictions - y_test)**2)\n",
    "print('RMSE: ' + str(round(rmse, 1)))"
   ]
  },
  {
   "cell_type": "code",
   "execution_count": 9,
   "metadata": {},
   "outputs": [
    {
     "data": {
      "image/png": "[encoded data removed]",
      "text/plain": [
       "<Figure size 1584x720 with 1 Axes>"
      ]
     },
     "metadata": {
      "needs_background": "light"
     },
     "output_type": "display_data"
    }
   ],
   "source": [
    "# The date from which on the date is displayed\n",
    "display_start_date = \"2018-01-01\" \n",
    "\n",
    "# Add the difference between the valid and predicted prices\n",
    "train = data[:training_data_length + 1]\n",
    "valid = data[training_data_length:]\n",
    "valid.insert(1, \"Predictions\", predictions, True)\n",
    "valid.insert(1, \"Difference\", valid[\"Predictions\"] - valid[\"Close\"], True)\n",
    "\n",
    "# Zoom in to a closer timeframe\n",
    "valid = valid[valid.index > display_start_date]\n",
    "train = train[train.index > display_start_date]\n",
    "\n",
    "# Visualize the data\n",
    "fig, ax1 = plt.subplots(figsize=(22, 10), sharex=True)\n",
    "xt = train.index; yt = train[[\"Close\"]]\n",
    "xv = valid.index; yv = valid[[\"Close\", \"Predictions\"]]\n",
    "plt.title(\"Predictions vs Ground Truth\", fontsize=20)\n",
    "plt.ylabel(stockname, fontsize=18)\n",
    "plt.plot(yt, color=\"#039dfc\", linewidth=2.0)\n",
    "plt.plot(yv[\"Predictions\"], color=\"#E91D9E\", linewidth=2.0)\n",
    "plt.plot(yv[\"Close\"], color=\"black\", linewidth=2.0)\n",
    "plt.legend([\"Train\", \"Test Predictions\", \"Ground Truth\"], loc=\"upper left\")\n",
    "\n",
    "# Fill between plotlines\n",
    "ax1.fill_between(xt, 0, yt[\"Close\"], color=\"#b9e1fa\")\n",
    "ax1.fill_between(xv, 0, yv[\"Predictions\"], color=\"#F0845C\")\n",
    "ax1.fill_between(xv, yv[\"Close\"], yv[\"Predictions\"], color=\"grey\") \n",
    "\n",
    "# Create the bar plot with the differences\n",
    "x = valid.index\n",
    "y = valid[\"Difference\"]\n",
    "plt.bar(x, y, width=5, color=\"black\")\n",
    "plt.grid()\n",
    "plt.show()"
   ]
  },
  {
   "cell_type": "code",
   "execution_count": 10,
   "metadata": {},
   "outputs": [
    {
     "data": {
      "text/html": [
       "<div>\n",
       "<style scoped>\n",
       "    .dataframe tbody tr th:only-of-type {\n",
       "        vertical-align: middle;\n",
       "    }\n",
       "\n",
       "    .dataframe tbody tr th {\n",
       "        vertical-align: top;\n",
       "    }\n",
       "\n",
       "    .dataframe thead th {\n",
       "        text-align: right;\n",
       "    }\n",
       "</style>\n",
       "<table border=\"1\" class=\"dataframe\">\n",
       "  <thead>\n",
       "    <tr style=\"text-align: right;\">\n",
       "      <th></th>\n",
       "      <th>Close</th>\n",
       "      <th>Difference</th>\n",
       "      <th>Difference</th>\n",
       "      <th>Predictions</th>\n",
       "    </tr>\n",
       "    <tr>\n",
       "      <th>Date</th>\n",
       "      <th></th>\n",
       "      <th></th>\n",
       "      <th></th>\n",
       "      <th></th>\n",
       "    </tr>\n",
       "  </thead>\n",
       "  <tbody>\n",
       "    <tr>\n",
       "      <th>2021-06-18</th>\n",
       "      <td>4166.450195</td>\n",
       "      <td>-0.635742</td>\n",
       "      <td>0.635742</td>\n",
       "      <td>4165.814453</td>\n",
       "    </tr>\n",
       "    <tr>\n",
       "      <th>2021-06-21</th>\n",
       "      <td>4224.790039</td>\n",
       "      <td>-84.624512</td>\n",
       "      <td>84.624512</td>\n",
       "      <td>4140.165527</td>\n",
       "    </tr>\n",
       "    <tr>\n",
       "      <th>2021-06-22</th>\n",
       "      <td>4246.439941</td>\n",
       "      <td>-104.633789</td>\n",
       "      <td>104.633789</td>\n",
       "      <td>4141.806152</td>\n",
       "    </tr>\n",
       "    <tr>\n",
       "      <th>2021-06-23</th>\n",
       "      <td>4241.839844</td>\n",
       "      <td>-81.033691</td>\n",
       "      <td>81.033691</td>\n",
       "      <td>4160.806152</td>\n",
       "    </tr>\n",
       "    <tr>\n",
       "      <th>2021-06-24</th>\n",
       "      <td>4266.490234</td>\n",
       "      <td>-89.328125</td>\n",
       "      <td>89.328125</td>\n",
       "      <td>4177.162109</td>\n",
       "    </tr>\n",
       "  </tbody>\n",
       "</table>\n",
       "</div>"
      ],
      "text/plain": [
       "                  Close  Difference  Difference  Predictions\n",
       "Date                                                        \n",
       "2021-06-18  4166.450195   -0.635742    0.635742  4165.814453\n",
       "2021-06-21  4224.790039  -84.624512   84.624512  4140.165527\n",
       "2021-06-22  4246.439941 -104.633789  104.633789  4141.806152\n",
       "2021-06-23  4241.839844  -81.033691   81.033691  4160.806152\n",
       "2021-06-24  4266.490234  -89.328125   89.328125  4177.162109"
      ]
     },
     "execution_count": 10,
     "metadata": {},
     "output_type": "execute_result"
    }
   ],
   "source": [
    "# Show the valid and predicted prices\n",
    "dif = valid['Close'] - valid['Predictions']\n",
    "valid.insert(2, 'Difference', dif, True)\n",
    "valid.tail(5)"
   ]
  },
  {
   "cell_type": "markdown",
   "metadata": {},
   "source": [
    "# Step #6 Predict Next Day's Price"
   ]
  },
  {
   "cell_type": "code",
   "execution_count": 11,
   "metadata": {},
   "outputs": [
    {
     "name": "stdout",
     "output_type": "stream",
     "text": [
      "WARNING:tensorflow:Model was constructed with shape (None, 50, 1) for input Tensor(\"lstm_input:0\", shape=(None, 50, 1), dtype=float32), but it was called on an input with incompatible shape (None, 100, 1).\n",
      "The close price for S&P500 at 2021-06-24 was 4266.49\n",
      "The predicted close price is 4194.8701171875 (+1.68%)\n"
     ]
    }
   ],
   "source": [
    "# Get fresh data until today and create a new dataframe with only the price data\n",
    "price_quote = webreader.DataReader(symbol, data_source='yahoo', start=date_start, end=date_today)\n",
    "new_df = price_quote.filter(['Close'])\n",
    "\n",
    "# Get the last 100 day closing price values and scale the data to be values between 0 and 1\n",
    "last_100_days = new_df[-100:].values\n",
    "last_100_days_scaled = mmscaler.transform(new_df[-100:].values)\n",
    "\n",
    "# Create an empty list and Append past 100 days\n",
    "X_test = []\n",
    "X_test.append(last_100_days_scaled)\n",
    "\n",
    "# Convert the X_test data set to a numpy array and reshape the data\n",
    "X_test = np.array(X_test)\n",
    "X_test = np.reshape(X_test, (X_test.shape[0], X_test.shape[1], 1))\n",
    "\n",
    "# Get the predicted scaled price, undo the scaling and output the predictions\n",
    "pred_price = model.predict(X_test)\n",
    "pred_price_unscaled = mmscaler.inverse_transform(pred_price)\n",
    "\n",
    "# Print last price and predicted price for the next day\n",
    "price_today = round(new_df['Close'][-1], 2)\n",
    "predicted_price = round(pred_price_unscaled.ravel()[0], 2)\n",
    "percent = round(100 - (predicted_price * 100)/price_today, 2)\n",
    "\n",
    "plus = '+'; minus = '-'\n",
    "print(f'The close price for {stockname} at {today} was {price_today}')\n",
    "print(f'The predicted close price is {predicted_price} ({plus if percent > 0 else minus}{percent}%)')"
   ]
  }
 ],
 "metadata": {
  "kernelspec": {
   "display_name": "Python 3",
   "language": "python",
   "name": "python3"
  },
  "language_info": {
   "codemirror_mode": {
    "name": "ipython",
    "version": 3
   },
   "file_extension": ".py",
   "mimetype": "text/x-python",
   "name": "python",
   "nbconvert_exporter": "python",
   "pygments_lexer": "ipython3",
   "version": "3.8.5"
  }
 },
 "nbformat": 4,
 "nbformat_minor": 4
}
