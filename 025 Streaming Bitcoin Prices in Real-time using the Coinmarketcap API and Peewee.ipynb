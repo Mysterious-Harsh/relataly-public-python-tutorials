{
 "cells": [
  {
   "cell_type": "markdown",
   "metadata": {},
   "source": [
    "# 1 Create a Relational Model in SQLite"
   ]
  },
  {
   "cell_type": "code",
   "execution_count": 51,
   "metadata": {},
   "outputs": [],
   "source": [
    "from peewee import *\n",
    "from flask import flash \n",
    "from datetime import date, timedelta, datetime\n",
    "import numpy as np \n",
    "import pandas as pd\n",
    "import seaborn as sns\n",
    "import matplotlib.pyplot as plt\n",
    "import time\n",
    "import json\n",
    "import yaml\n",
    "from requests import Request, Session\n",
    "from requests.exceptions import ConnectionError, Timeout, TooManyRedirects\n",
    "\n",
    "# persist information\n",
    "db = SqliteDatabase('assets.db')\n",
    "\n",
    "class BaseModel(Model):\n",
    "    class Meta:\n",
    "        database = db\n",
    "\n",
    "class Run(BaseModel): # This model uses the \"assets.db\" database.\n",
    "    timestamp = DateTimeField(unique=True)\n",
    "    symbol = CharField()\n",
    "    id = AutoField()\n",
    "\n",
    "class Price(BaseModel): # This model uses the \"assets.db\" database.\n",
    "    datetime = DateTimeField(unique=True)\n",
    "    volume_24 = FloatField()\n",
    "    price = FloatField()\n",
    "    runid = ForeignKeyField(Run, backref='prices')\n",
    "         \n",
    "# By default, Peewee includes an IF NOT EXISTS clause when creating tables. \n",
    "def create_tables():\n",
    "    with db:\n",
    "        db.create_tables([Price])\n",
    "        db.create_tables([Run])\n",
    "\n",
    "def drop_tables():\n",
    "    with db:\n",
    "        db.drop_tables([Price])\n",
    "        db.drop_tables([Run])\n",
    "        \n",
    "create_tables()\n",
    "\n",
    "#drop_tables()    "
   ]
  },
  {
   "cell_type": "markdown",
   "metadata": {},
   "source": [
    "# 2 Query the API and Return Price Data as Stream"
   ]
  },
  {
   "cell_type": "code",
   "execution_count": null,
   "metadata": {},
   "outputs": [
    {
     "name": "stdout",
     "output_type": "stream",
     "text": [
      "run_id: 12 - timestamp: 2021-04-25 01:19:11.624670 - interval: 5 - number of queries: 200\n",
      "request number: 0 - added 50385.1 at 2021-04-24T23:19:11.384Z - 24 hour volume: 49818844719.5 - credits used: 1\n"
     ]
    }
   ],
   "source": [
    "symbol='BTCUSD'\n",
    "query_interval = 5 # in seconds\n",
    "query_number = 200 # the number of queries after which the API stops\n",
    "\n",
    "# load the API key from our local file\n",
    "with open(r'C:/Users/Flo/relataly-public-python-tutorials/coinmarketcap.yml') as file:\n",
    "    apikey = yaml.load(file, Loader=yaml.FullLoader)['key']\n",
    "\n",
    "# Define some essential API parameters\n",
    "# Coinmarketcap API for latest market ticker quotes and averages for cryptocurrencies and exchanges.\n",
    "# https://coinmarketcap.com/api/documentation/v1/#operation/getV1CryptocurrencyListingsLatest\n",
    "url = 'https://pro-api.coinmarketcap.com/v1/cryptocurrency/listings/latest'\n",
    "parameters = {\n",
    "  'start':'1',\n",
    "  'limit':'2',\n",
    "  'convert':'USD'\n",
    "}\n",
    "headers = {\n",
    "  'Accepts': 'application/json',\n",
    "  'X-CMC_PRO_API_KEY': apikey,\n",
    "}\n",
    "\n",
    "session = Session()\n",
    "session.headers.update(headers)\n",
    "\n",
    "# create a new run and save it to our local SQLite DB\n",
    "run_timestamp = datetime.now()\n",
    "run = Run(symbol=symbol, timestamp = run_timestamp)\n",
    "run.save()\n",
    "current_run_id = run.id \n",
    "print(f'run_id: {current_run_id} - timestamp: {run_timestamp} - interval: {query_interval} - number of queries: {query_number}')\n",
    "\n",
    "# query the coinmarketcap API every x seconds\n",
    "for s in range(0, query_number):\n",
    "    try:\n",
    "        response = session.get(url, params=parameters)\n",
    "        data = json.loads(response.text)\n",
    "        #print(data)\n",
    "        \n",
    "        # response - quote\n",
    "        data_quote = data['data'][0]['quote']['USD']\n",
    "        price = np.round(data_quote['price'], 1) # the price\n",
    "        volume_24 = np.round(data_quote['volume_24h'], 1) # the volume in the last 24 hours\n",
    "        \n",
    "        # response - status\n",
    "        data_status = data['status']\n",
    "        api_timestamp = data_status['timestamp'] # the timestamp of the pricepoint\n",
    "        api_credits = data_status['credit_count'] # the number of credits spent on the last request\n",
    "        \n",
    "        # create a new pricepoint and save it to the SQLite db\n",
    "        new_pricepoint = Price(datetime=api_timestamp, price=price, volume_24=volume_24, runid=current_run_id)\n",
    "        id = new_pricepoint.save()\n",
    "\n",
    "        # display what we have just saved\n",
    "        print(f'request number: {s} - added {price} at {api_timestamp} - 24 hour volume: {volume_24} - credits used: {api_credits}')      \n",
    "\n",
    "    except (ConnectionError, Timeout, TooManyRedirects) as e:\n",
    "        print(e)\n",
    "    time.sleep(query_interval)\n",
    "print('finished')"
   ]
  },
  {
   "cell_type": "markdown",
   "metadata": {},
   "source": [
    "# 3 Query and Plot the Data"
   ]
  },
  {
   "cell_type": "code",
   "execution_count": 47,
   "metadata": {},
   "outputs": [
    {
     "data": {
      "text/html": [
       "<div>\n",
       "<style scoped>\n",
       "    .dataframe tbody tr th:only-of-type {\n",
       "        vertical-align: middle;\n",
       "    }\n",
       "\n",
       "    .dataframe tbody tr th {\n",
       "        vertical-align: top;\n",
       "    }\n",
       "\n",
       "    .dataframe thead th {\n",
       "        text-align: right;\n",
       "    }\n",
       "</style>\n",
       "<table border=\"1\" class=\"dataframe\">\n",
       "  <thead>\n",
       "    <tr style=\"text-align: right;\">\n",
       "      <th></th>\n",
       "      <th>id</th>\n",
       "      <th>timestamp</th>\n",
       "      <th>symbol</th>\n",
       "    </tr>\n",
       "  </thead>\n",
       "  <tbody>\n",
       "    <tr>\n",
       "      <th>0</th>\n",
       "      <td>10</td>\n",
       "      <td>2021-04-24 23:57:24.758231</td>\n",
       "      <td>BTCUSD</td>\n",
       "    </tr>\n",
       "  </tbody>\n",
       "</table>\n",
       "</div>"
      ],
      "text/plain": [
       "   id                  timestamp  symbol\n",
       "0  10 2021-04-24 23:57:24.758231  BTCUSD"
      ]
     },
     "execution_count": 47,
     "metadata": {},
     "output_type": "execute_result"
    }
   ],
   "source": [
    "query = Run.select().where(Run.id==current_run_id)\n",
    "run_overview = pd.DataFrame(list(query.dicts()))\n",
    "run_overview"
   ]
  },
  {
   "cell_type": "code",
   "execution_count": 123,
   "metadata": {},
   "outputs": [
    {
     "name": "stdout",
     "output_type": "stream",
     "text": [
      "    id                  datetime     volume_24    price  runid\n",
      "0  131  2021-04-24T23:02:35.068Z  4.976121e+10  50310.6     11\n"
     ]
    },
    {
     "data": {
      "text/plain": [
       "(array([737241., 737425., 737607., 737791., 737972., 738156., 738337.,\n",
       "        738521., 738702.]),\n",
       " <a list of 9 Text xticklabel objects>)"
      ]
     },
     "execution_count": 123,
     "metadata": {},
     "output_type": "execute_result"
    },
    {
     "data": {
      "image/png": "[encoded data removed]",
      "text/plain": [
       "<Figure size 720x576 with 1 Axes>"
      ]
     },
     "metadata": {
      "needs_background": "light"
     },
     "output_type": "display_data"
    }
   ],
   "source": [
    "query = Price.select().where(Price.runid==current_run_id)\n",
    "df_prices = pd.DataFrame(list(query.dicts()))\n",
    "print(df_prices)\n",
    "\n",
    "from pandas.plotting import register_matplotlib_converters\n",
    "import matplotlib.dates as mdates\n",
    "register_matplotlib_converters()\n",
    "fig, ax = plt.subplots(figsize=(10, 8))\n",
    "plt.title('BTC prices from the coinmarketcap API', fontsize=14)\n",
    "datetimes = pd.to_datetime(df_prices['datetime'])\n",
    "\n",
    "sns.lineplot(data=df_prices, x=datetimes, y=\"price\")\n",
    "#ax.set_xlim([df_prices['datetime'].min(),df_prices['datetime'].max()])\n",
    "#ax.xaxis.set_major_locator(mdates.MinuteLocator())\n",
    "plt.xticks(rotation=75)"
   ]
  }
 ],
 "metadata": {
  "kernelspec": {
   "display_name": "Python 3",
   "language": "python",
   "name": "python3"
  },
  "language_info": {
   "codemirror_mode": {
    "name": "ipython",
    "version": 3
   },
   "file_extension": ".py",
   "mimetype": "text/x-python",
   "name": "python",
   "nbconvert_exporter": "python",
   "pygments_lexer": "ipython3",
   "version": "3.8.5"
  }
 },
 "nbformat": 4,
 "nbformat_minor": 4
}
